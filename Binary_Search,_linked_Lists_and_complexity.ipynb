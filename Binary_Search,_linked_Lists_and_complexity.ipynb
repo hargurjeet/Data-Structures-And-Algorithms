{
  "nbformat": 4,
  "nbformat_minor": 0,
  "metadata": {
    "colab": {
      "name": "Binary Search, linked Lists and complexity.ipynb",
      "provenance": [],
      "authorship_tag": "ABX9TyPqB+8eBEVXsm3l0HV0k+mU",
      "include_colab_link": true
    },
    "kernelspec": {
      "name": "python3",
      "display_name": "Python 3"
    },
    "language_info": {
      "name": "python"
    }
  },
  "cells": [
    {
      "cell_type": "markdown",
      "metadata": {
        "id": "view-in-github",
        "colab_type": "text"
      },
      "source": [
        "<a href=\"https://colab.research.google.com/github/hargurjeet/Data-Structures-And-Algorithms/blob/main/Binary_Search%2C_linked_Lists_and_complexity.ipynb\" target=\"_parent\"><img src=\"https://colab.research.google.com/assets/colab-badge.svg\" alt=\"Open In Colab\"/></a>"
      ]
    },
    {
      "cell_type": "code",
      "metadata": {
        "id": "Hj00Kk-Lf90m"
      },
      "source": [
        "def locate_cards(cards, query):\n",
        "  pass"
      ],
      "execution_count": 1,
      "outputs": []
    },
    {
      "cell_type": "code",
      "metadata": {
        "id": "BgrvcvEKhFb5"
      },
      "source": [
        "# Let us first write one test case and test the input and output function\n",
        "cards = [99,89,79,69,59,7,49,39,29,19]\n",
        "query = 7\n",
        "output = 6\n",
        "\n",
        "# or this can also be written as\n",
        "test = {\n",
        "    'inputs':{'cards':[99,89,79,69,59,7,49,39,29,19],\n",
        "              'query':7\n",
        "              },\n",
        "        'output':6\n",
        "}"
      ],
      "execution_count": 7,
      "outputs": []
    },
    {
      "cell_type": "code",
      "metadata": {
        "id": "uQdd3qEpjHz3"
      },
      "source": [
        "## Identifying some more test cases\n",
        "tests = []\n",
        "\n",
        "test = {\n",
        "    'inputs':{'cards':[99,89,79,69,59,7,49,39,29,19],\n",
        "              'query':7\n",
        "              },\n",
        "        'output':5\n",
        "}\n",
        "\n",
        "tests.append(test)"
      ],
      "execution_count": 17,
      "outputs": []
    },
    {
      "cell_type": "code",
      "metadata": {
        "colab": {
          "base_uri": "https://localhost:8080/"
        },
        "id": "KovhMWRbld5v",
        "outputId": "9088fbe8-2d0e-4abc-dd46-758c9e18c840"
      },
      "source": [
        "test = {\n",
        "    'input': {\n",
        "        'cards': [13, 11, 10, 7, 4, 3, 1, 0],\n",
        "        'query': 1\n",
        "    },\n",
        "    'output': 6\n",
        "}\n",
        "\n",
        "tests.append(test)\n",
        "\n",
        "# query is the first element\n",
        "test = {\n",
        "    'input': {\n",
        "        'cards': [4, 2, 1, -1],\n",
        "        'query': 4\n",
        "    },\n",
        "    'output': 0\n",
        "}\n",
        "\n",
        "tests.append(test)\n",
        "\n",
        "# query is the last element\n",
        "test = {\n",
        "    'input': {\n",
        "        'cards': [3, -1, -9, -127],\n",
        "        'query': -127\n",
        "    },\n",
        "    'output': 3\n",
        "}\n",
        "tests.append(test)\n",
        "\n",
        "# cards contains just one element, query\n",
        "test = {\n",
        "    'input': {\n",
        "        'cards': [6],\n",
        "        'query': 6\n",
        "    },\n",
        "    'output': 0 \n",
        "}\n",
        "tests.append(test)\n",
        "\n",
        "# cards does not contain query \n",
        "test ={\n",
        "    'input': {\n",
        "        'cards': [9, 7, 5, 2, -9],\n",
        "        'query': 4\n",
        "    },\n",
        "    'output': -1\n",
        "}\n",
        "tests.append(test)\n",
        "\n",
        "# cards is empty\n",
        "test = {\n",
        "    'input': {\n",
        "        'cards': [],\n",
        "        'query': 7\n",
        "    },\n",
        "    'output': -1\n",
        "}\n",
        "tests.append(test)\n",
        "\n",
        "# numbers can repeat in cards\n",
        "test = {\n",
        "       'input': {\n",
        "        'cards': [8, 8, 6, 6, 6, 6, 6, 3, 2, 2, 2, 0, 0, 0],\n",
        "        'query': 3\n",
        "    },\n",
        "    'output': 7\n",
        "}\n",
        "tests.append(test)\n",
        "\n",
        "# query occurs multiple times\n",
        "test={\n",
        "        'input': {\n",
        "        'cards': [8, 8, 6, 6, 6, 6, 6, 6, 3, 2, 2, 2, 0, 0, 0],\n",
        "        'query': 6\n",
        "    },\n",
        "    'output': 2\n",
        "}\n",
        "\n",
        "tests.append(test)\n",
        "tests"
      ],
      "execution_count": 20,
      "outputs": [
        {
          "output_type": "execute_result",
          "data": {
            "text/plain": [
              "[{'inputs': {'cards': [99, 89, 79, 69, 59, 7, 49, 39, 29, 19], 'query': 7},\n",
              "  'output': 6},\n",
              " {'input': {'cards': [13, 11, 10, 7, 4, 3, 1, 0], 'query': 1}, 'output': 6},\n",
              " {'input': {'cards': [4, 2, 1, -1], 'query': 4}, 'output': 0},\n",
              " {'input': {'cards': [3, -1, -9, -127], 'query': -127}, 'output': 3},\n",
              " {'input': {'cards': [6], 'query': 6}, 'output': 0},\n",
              " {'input': {'cards': [9, 7, 5, 2, -9], 'query': 4}, 'output': -1},\n",
              " {'input': {'cards': [], 'query': 7}, 'output': -1},\n",
              " {'input': {'cards': [8, 8, 6, 6, 6, 6, 6, 3, 2, 2, 2, 0, 0, 0], 'query': 3},\n",
              "  'output': 7},\n",
              " {'input': {'cards': [8, 8, 6, 6, 6, 6, 6, 6, 3, 2, 2, 2, 0, 0, 0],\n",
              "   'query': 6},\n",
              "  'output': 2}]"
            ]
          },
          "metadata": {
            "tags": []
          },
          "execution_count": 20
        }
      ]
    },
    {
      "cell_type": "code",
      "metadata": {
        "id": "02GFyNSgnPwZ"
      },
      "source": [
        ""
      ],
      "execution_count": null,
      "outputs": []
    }
  ]
}